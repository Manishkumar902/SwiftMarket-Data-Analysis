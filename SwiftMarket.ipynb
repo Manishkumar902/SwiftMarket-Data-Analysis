{
 "cells": [
  {
   "cell_type": "code",
   "execution_count": 3,
   "metadata": {},
   "outputs": [],
   "source": [
    "import os \n",
    "\n",
    "import pandas as pd\n",
    "import numpy as np\n",
    "# from matplotlib import pyplot as plt\n",
    "import matplotlib.pyplot as plt\n",
    "import seaborn as sns\n",
    "\n",
    "from sql_functions import read_query"
   ]
  },
  {
   "cell_type": "code",
   "execution_count": 5,
   "metadata": {},
   "outputs": [
    {
     "data": {
      "text/html": [
       "<div>\n",
       "<style scoped>\n",
       "    .dataframe tbody tr th:only-of-type {\n",
       "        vertical-align: middle;\n",
       "    }\n",
       "\n",
       "    .dataframe tbody tr th {\n",
       "        vertical-align: top;\n",
       "    }\n",
       "\n",
       "    .dataframe thead th {\n",
       "        text-align: right;\n",
       "    }\n",
       "</style>\n",
       "<table border=\"1\" class=\"dataframe\">\n",
       "  <thead>\n",
       "    <tr style=\"text-align: right;\">\n",
       "      <th></th>\n",
       "      <th>CustomerID</th>\n",
       "      <th>FirstName</th>\n",
       "      <th>LastName</th>\n",
       "      <th>Email</th>\n",
       "      <th>Phone</th>\n",
       "      <th>Address</th>\n",
       "      <th>State</th>\n",
       "    </tr>\n",
       "  </thead>\n",
       "  <tbody>\n",
       "    <tr>\n",
       "      <th>0</th>\n",
       "      <td>C-2023-100-1</td>\n",
       "      <td>Mahika</td>\n",
       "      <td>Sunder</td>\n",
       "      <td>MahikaSunder_11@zmail.com</td>\n",
       "      <td>03412176590</td>\n",
       "      <td>H.No. 155, Chana</td>\n",
       "      <td>Assam</td>\n",
       "    </tr>\n",
       "    <tr>\n",
       "      <th>1</th>\n",
       "      <td>C-2023-100-10</td>\n",
       "      <td>Zeeshan</td>\n",
       "      <td>Vasa</td>\n",
       "      <td>ZeeshanVasa_1@zmail.com</td>\n",
       "      <td>+911151051656</td>\n",
       "      <td>52, Roy Nagar</td>\n",
       "      <td>Tripura</td>\n",
       "    </tr>\n",
       "    <tr>\n",
       "      <th>2</th>\n",
       "      <td>C-2023-100-100</td>\n",
       "      <td>Aaina</td>\n",
       "      <td>Sachdeva</td>\n",
       "      <td>AainaSachdeva_9@zmail.com</td>\n",
       "      <td>+918834507719</td>\n",
       "      <td>75/92, Kade Marg</td>\n",
       "      <td>Nagaland</td>\n",
       "    </tr>\n",
       "    <tr>\n",
       "      <th>3</th>\n",
       "      <td>C-2023-100-101</td>\n",
       "      <td>Shray</td>\n",
       "      <td>Bajwa</td>\n",
       "      <td>ShrayBajwa_11@zmail.com</td>\n",
       "      <td>07410498662</td>\n",
       "      <td>45, Bora Ganj</td>\n",
       "      <td>Manipur</td>\n",
       "    </tr>\n",
       "  </tbody>\n",
       "</table>\n",
       "</div>"
      ],
      "text/plain": [
       "       CustomerID FirstName  LastName                      Email  \\\n",
       "0    C-2023-100-1    Mahika    Sunder  MahikaSunder_11@zmail.com   \n",
       "1   C-2023-100-10   Zeeshan      Vasa    ZeeshanVasa_1@zmail.com   \n",
       "2  C-2023-100-100     Aaina  Sachdeva  AainaSachdeva_9@zmail.com   \n",
       "3  C-2023-100-101     Shray     Bajwa    ShrayBajwa_11@zmail.com   \n",
       "\n",
       "           Phone           Address     State  \n",
       "0    03412176590  H.No. 155, Chana     Assam  \n",
       "1  +911151051656     52, Roy Nagar   Tripura  \n",
       "2  +918834507719  75/92, Kade Marg  Nagaland  \n",
       "3    07410498662     45, Bora Ganj   Manipur  "
      ]
     },
     "execution_count": 5,
     "metadata": {},
     "output_type": "execute_result"
    }
   ],
   "source": [
    "query = '''select * from customers limit 4;'''\n",
    "read_query(query)"
   ]
  },
  {
   "cell_type": "code",
   "execution_count": 6,
   "metadata": {},
   "outputs": [
    {
     "data": {
      "text/html": [
       "<div>\n",
       "<style scoped>\n",
       "    .dataframe tbody tr th:only-of-type {\n",
       "        vertical-align: middle;\n",
       "    }\n",
       "\n",
       "    .dataframe tbody tr th {\n",
       "        vertical-align: top;\n",
       "    }\n",
       "\n",
       "    .dataframe thead th {\n",
       "        text-align: right;\n",
       "    }\n",
       "</style>\n",
       "<table border=\"1\" class=\"dataframe\">\n",
       "  <thead>\n",
       "    <tr style=\"text-align: right;\">\n",
       "      <th></th>\n",
       "      <th>Tables_in_swiftmarket</th>\n",
       "    </tr>\n",
       "  </thead>\n",
       "  <tbody>\n",
       "    <tr>\n",
       "      <th>0</th>\n",
       "      <td>categories</td>\n",
       "    </tr>\n",
       "    <tr>\n",
       "      <th>1</th>\n",
       "      <td>customers</td>\n",
       "    </tr>\n",
       "    <tr>\n",
       "      <th>2</th>\n",
       "      <td>employees</td>\n",
       "    </tr>\n",
       "    <tr>\n",
       "      <th>3</th>\n",
       "      <td>salesdata</td>\n",
       "    </tr>\n",
       "    <tr>\n",
       "      <th>4</th>\n",
       "      <td>subcategories</td>\n",
       "    </tr>\n",
       "    <tr>\n",
       "      <th>5</th>\n",
       "      <td>suppliers</td>\n",
       "    </tr>\n",
       "  </tbody>\n",
       "</table>\n",
       "</div>"
      ],
      "text/plain": [
       "  Tables_in_swiftmarket\n",
       "0            categories\n",
       "1             customers\n",
       "2             employees\n",
       "3             salesdata\n",
       "4         subcategories\n",
       "5             suppliers"
      ]
     },
     "execution_count": 6,
     "metadata": {},
     "output_type": "execute_result"
    }
   ],
   "source": [
    "query = 'show tables;'\n",
    "read_query(query)"
   ]
  },
  {
   "cell_type": "code",
   "execution_count": 7,
   "metadata": {},
   "outputs": [
    {
     "data": {
      "text/html": [
       "<div>\n",
       "<style scoped>\n",
       "    .dataframe tbody tr th:only-of-type {\n",
       "        vertical-align: middle;\n",
       "    }\n",
       "\n",
       "    .dataframe tbody tr th {\n",
       "        vertical-align: top;\n",
       "    }\n",
       "\n",
       "    .dataframe thead th {\n",
       "        text-align: right;\n",
       "    }\n",
       "</style>\n",
       "<table border=\"1\" class=\"dataframe\">\n",
       "  <thead>\n",
       "    <tr style=\"text-align: right;\">\n",
       "      <th></th>\n",
       "      <th>SaleID</th>\n",
       "      <th>CustomerID</th>\n",
       "      <th>SubcatID</th>\n",
       "      <th>EmployeeID</th>\n",
       "      <th>SaleDate</th>\n",
       "      <th>Quantity</th>\n",
       "      <th>TotalPrice</th>\n",
       "    </tr>\n",
       "  </thead>\n",
       "  <tbody>\n",
       "    <tr>\n",
       "      <th>0</th>\n",
       "      <td>23000</td>\n",
       "      <td>C-2023-100-12</td>\n",
       "      <td>6002</td>\n",
       "      <td>1100</td>\n",
       "      <td>2023-05-02</td>\n",
       "      <td>2</td>\n",
       "      <td>176432.00</td>\n",
       "    </tr>\n",
       "    <tr>\n",
       "      <th>1</th>\n",
       "      <td>23001</td>\n",
       "      <td>C-2023-100-141</td>\n",
       "      <td>6029</td>\n",
       "      <td>1115</td>\n",
       "      <td>2023-12-26</td>\n",
       "      <td>2</td>\n",
       "      <td>47172.00</td>\n",
       "    </tr>\n",
       "    <tr>\n",
       "      <th>2</th>\n",
       "      <td>23002</td>\n",
       "      <td>C-2023-100-86</td>\n",
       "      <td>6029</td>\n",
       "      <td>1035</td>\n",
       "      <td>2023-03-26</td>\n",
       "      <td>2</td>\n",
       "      <td>47172.00</td>\n",
       "    </tr>\n",
       "  </tbody>\n",
       "</table>\n",
       "</div>"
      ],
      "text/plain": [
       "   SaleID      CustomerID  SubcatID  EmployeeID    SaleDate  Quantity  \\\n",
       "0   23000   C-2023-100-12      6002        1100  2023-05-02         2   \n",
       "1   23001  C-2023-100-141      6029        1115  2023-12-26         2   \n",
       "2   23002   C-2023-100-86      6029        1035  2023-03-26         2   \n",
       "\n",
       "  TotalPrice  \n",
       "0  176432.00  \n",
       "1   47172.00  \n",
       "2   47172.00  "
      ]
     },
     "execution_count": 7,
     "metadata": {},
     "output_type": "execute_result"
    }
   ],
   "source": [
    "query = '''select * from salesdata limit 3;'''\n",
    "read_query(query)"
   ]
  },
  {
   "cell_type": "code",
   "execution_count": 9,
   "metadata": {},
   "outputs": [
    {
     "data": {
      "text/html": [
       "<div>\n",
       "<style scoped>\n",
       "    .dataframe tbody tr th:only-of-type {\n",
       "        vertical-align: middle;\n",
       "    }\n",
       "\n",
       "    .dataframe tbody tr th {\n",
       "        vertical-align: top;\n",
       "    }\n",
       "\n",
       "    .dataframe thead th {\n",
       "        text-align: right;\n",
       "    }\n",
       "</style>\n",
       "<table border=\"1\" class=\"dataframe\">\n",
       "  <thead>\n",
       "    <tr style=\"text-align: right;\">\n",
       "      <th></th>\n",
       "      <th>customerid</th>\n",
       "      <th>firstname</th>\n",
       "      <th>saledate</th>\n",
       "      <th>totalprice</th>\n",
       "    </tr>\n",
       "  </thead>\n",
       "  <tbody>\n",
       "    <tr>\n",
       "      <th>0</th>\n",
       "      <td>C-2023-100-1</td>\n",
       "      <td>Mahika</td>\n",
       "      <td>2023-07-22</td>\n",
       "      <td>67312.00</td>\n",
       "    </tr>\n",
       "    <tr>\n",
       "      <th>1</th>\n",
       "      <td>C-2023-100-1</td>\n",
       "      <td>Mahika</td>\n",
       "      <td>2023-05-23</td>\n",
       "      <td>176466.00</td>\n",
       "    </tr>\n",
       "    <tr>\n",
       "      <th>2</th>\n",
       "      <td>C-2023-100-1</td>\n",
       "      <td>Mahika</td>\n",
       "      <td>2023-11-26</td>\n",
       "      <td>190332.00</td>\n",
       "    </tr>\n",
       "    <tr>\n",
       "      <th>3</th>\n",
       "      <td>C-2023-100-1</td>\n",
       "      <td>Mahika</td>\n",
       "      <td>2023-03-31</td>\n",
       "      <td>205080.00</td>\n",
       "    </tr>\n",
       "    <tr>\n",
       "      <th>4</th>\n",
       "      <td>C-2023-100-1</td>\n",
       "      <td>Mahika</td>\n",
       "      <td>2023-11-22</td>\n",
       "      <td>14174.00</td>\n",
       "    </tr>\n",
       "  </tbody>\n",
       "</table>\n",
       "</div>"
      ],
      "text/plain": [
       "     customerid firstname    saledate totalprice\n",
       "0  C-2023-100-1    Mahika  2023-07-22   67312.00\n",
       "1  C-2023-100-1    Mahika  2023-05-23  176466.00\n",
       "2  C-2023-100-1    Mahika  2023-11-26  190332.00\n",
       "3  C-2023-100-1    Mahika  2023-03-31  205080.00\n",
       "4  C-2023-100-1    Mahika  2023-11-22   14174.00"
      ]
     },
     "execution_count": 9,
     "metadata": {},
     "output_type": "execute_result"
    }
   ],
   "source": [
    "query = \"\"\"select s.customerid, c.firstname,s.saledate, s.totalprice\n",
    "from salesdata s\n",
    "join customers c\n",
    "on s.customerid = c.customerid\n",
    "limit 5;\n",
    "\"\"\"\n",
    "\n",
    "read_query(query)"
   ]
  },
  {
   "cell_type": "code",
   "execution_count": 14,
   "metadata": {},
   "outputs": [],
   "source": [
    "query = \"\"\"\n",
    "select t.customerid,c.firstname,t.expenditure\n",
    "from\n",
    "(Select customerid,\n",
    "sum(totalprice) as expenditure\n",
    "from salesdata\n",
    "group by customerid) t\n",
    "join customers c\n",
    "on t.customerid=c.customerid\n",
    "order by t.expenditure desc\n",
    "limit 10;\n",
    "\"\"\"\n",
    "\n",
    "top_annual_customers = read_query(query)"
   ]
  },
  {
   "cell_type": "code",
   "execution_count": 15,
   "metadata": {},
   "outputs": [
    {
     "data": {
      "text/html": [
       "<div>\n",
       "<style scoped>\n",
       "    .dataframe tbody tr th:only-of-type {\n",
       "        vertical-align: middle;\n",
       "    }\n",
       "\n",
       "    .dataframe tbody tr th {\n",
       "        vertical-align: top;\n",
       "    }\n",
       "\n",
       "    .dataframe thead th {\n",
       "        text-align: right;\n",
       "    }\n",
       "</style>\n",
       "<table border=\"1\" class=\"dataframe\">\n",
       "  <thead>\n",
       "    <tr style=\"text-align: right;\">\n",
       "      <th></th>\n",
       "      <th>customerid</th>\n",
       "      <th>firstname</th>\n",
       "      <th>expenditure</th>\n",
       "    </tr>\n",
       "  </thead>\n",
       "  <tbody>\n",
       "    <tr>\n",
       "      <th>0</th>\n",
       "      <td>C-2023-100-13</td>\n",
       "      <td>Veer</td>\n",
       "      <td>13016064.00</td>\n",
       "    </tr>\n",
       "    <tr>\n",
       "      <th>1</th>\n",
       "      <td>C-2023-100-94</td>\n",
       "      <td>Priyansh</td>\n",
       "      <td>12629337.00</td>\n",
       "    </tr>\n",
       "    <tr>\n",
       "      <th>2</th>\n",
       "      <td>C-2023-100-57</td>\n",
       "      <td>Riya</td>\n",
       "      <td>12599608.00</td>\n",
       "    </tr>\n",
       "    <tr>\n",
       "      <th>3</th>\n",
       "      <td>C-2023-100-58</td>\n",
       "      <td>Vanya</td>\n",
       "      <td>12455437.00</td>\n",
       "    </tr>\n",
       "    <tr>\n",
       "      <th>4</th>\n",
       "      <td>C-2023-100-88</td>\n",
       "      <td>Dhruv</td>\n",
       "      <td>12280916.00</td>\n",
       "    </tr>\n",
       "    <tr>\n",
       "      <th>5</th>\n",
       "      <td>C-2023-100-165</td>\n",
       "      <td>Tarini</td>\n",
       "      <td>12130487.00</td>\n",
       "    </tr>\n",
       "    <tr>\n",
       "      <th>6</th>\n",
       "      <td>C-2023-100-197</td>\n",
       "      <td>Yuvraj</td>\n",
       "      <td>11868602.00</td>\n",
       "    </tr>\n",
       "    <tr>\n",
       "      <th>7</th>\n",
       "      <td>C-2023-100-199</td>\n",
       "      <td>Rhea</td>\n",
       "      <td>11704275.00</td>\n",
       "    </tr>\n",
       "    <tr>\n",
       "      <th>8</th>\n",
       "      <td>C-2023-100-196</td>\n",
       "      <td>Darshit</td>\n",
       "      <td>11520699.00</td>\n",
       "    </tr>\n",
       "    <tr>\n",
       "      <th>9</th>\n",
       "      <td>C-2023-100-75</td>\n",
       "      <td>Prerak</td>\n",
       "      <td>11442527.00</td>\n",
       "    </tr>\n",
       "  </tbody>\n",
       "</table>\n",
       "</div>"
      ],
      "text/plain": [
       "       customerid firstname  expenditure\n",
       "0   C-2023-100-13      Veer  13016064.00\n",
       "1   C-2023-100-94  Priyansh  12629337.00\n",
       "2   C-2023-100-57      Riya  12599608.00\n",
       "3   C-2023-100-58     Vanya  12455437.00\n",
       "4   C-2023-100-88     Dhruv  12280916.00\n",
       "5  C-2023-100-165    Tarini  12130487.00\n",
       "6  C-2023-100-197   Yuvraj   11868602.00\n",
       "7  C-2023-100-199      Rhea  11704275.00\n",
       "8  C-2023-100-196   Darshit  11520699.00\n",
       "9   C-2023-100-75    Prerak  11442527.00"
      ]
     },
     "execution_count": 15,
     "metadata": {},
     "output_type": "execute_result"
    }
   ],
   "source": [
    "top_annual_customers"
   ]
  },
  {
   "cell_type": "code",
   "execution_count": 19,
   "metadata": {},
   "outputs": [
    {
     "name": "stdout",
     "output_type": "stream",
     "text": [
      "<class 'pandas.core.frame.DataFrame'>\n",
      "RangeIndex: 10 entries, 0 to 9\n",
      "Data columns (total 3 columns):\n",
      " #   Column       Non-Null Count  Dtype  \n",
      "---  ------       --------------  -----  \n",
      " 0   customerid   10 non-null     object \n",
      " 1   firstname    10 non-null     object \n",
      " 2   expenditure  10 non-null     float64\n",
      "dtypes: float64(1), object(2)\n",
      "memory usage: 372.0+ bytes\n"
     ]
    }
   ],
   "source": [
    "top_annual_customers.info()"
   ]
  },
  {
   "cell_type": "code",
   "execution_count": 18,
   "metadata": {},
   "outputs": [],
   "source": [
    "top_annual_customers ['expenditure'] = top_annual_customers ['expenditure'].astype(float)"
   ]
  },
  {
   "cell_type": "code",
   "execution_count": 20,
   "metadata": {},
   "outputs": [
    {
     "data": {
      "text/plain": [
       "array([13016064., 12629337., 12599608., 12455437., 12280916., 12130487.,\n",
       "       11868602., 11704275., 11520699., 11442527.])"
      ]
     },
     "execution_count": 20,
     "metadata": {},
     "output_type": "execute_result"
    }
   ],
   "source": [
    "top_annual_customers ['expenditure'].values"
   ]
  },
  {
   "cell_type": "code",
   "execution_count": 21,
   "metadata": {},
   "outputs": [],
   "source": [
    "customer_exp = top_annual_customers['expenditure'].values"
   ]
  },
  {
   "cell_type": "code",
   "execution_count": 24,
   "metadata": {},
   "outputs": [],
   "source": [
    "customer_names = top_annual_customers['firstname'].values"
   ]
  },
  {
   "cell_type": "code",
   "execution_count": 27,
   "metadata": {},
   "outputs": [
    {
     "data": {
      "image/png": "[encoded data removed]",
      "text/plain": [
       "<Figure size 1000x500 with 1 Axes>"
      ]
     },
     "metadata": {},
     "output_type": "display_data"
    }
   ],
   "source": [
    "plt.figure(figsize=(10,5))\n",
    "plt.bar(height=customer_exp,x=customer_names)\n",
    "plt.savefig('top_annual_customers.jpeg')"
   ]
  },
  {
   "cell_type": "code",
   "execution_count": null,
   "metadata": {},
   "outputs": [],
   "source": []
  }
 ],
 "metadata": {
  "kernelspec": {
   "display_name": "wk1200",
   "language": "python",
   "name": "python3"
  },
  "language_info": {
   "codemirror_mode": {
    "name": "ipython",
    "version": 3
   },
   "file_extension": ".py",
   "mimetype": "text/x-python",
   "name": "python",
   "nbconvert_exporter": "python",
   "pygments_lexer": "ipython3",
   "version": "undefined.undefined.undefined"
  }
 },
 "nbformat": 4,
 "nbformat_minor": 2
}
